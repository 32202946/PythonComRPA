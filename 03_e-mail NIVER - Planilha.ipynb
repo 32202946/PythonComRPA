{
 "cells": [
  {
   "cell_type": "code",
   "execution_count": null,
   "id": "b2a65011",
   "metadata": {},
   "outputs": [],
   "source": [
    "### bIBLIOTECAS Robotic Process Automation – RPA"
   ]
  },
  {
   "cell_type": "code",
   "execution_count": 17,
   "id": "1de5f8bb",
   "metadata": {},
   "outputs": [],
   "source": [
    "import pyautogui\n",
    "import pyperclip\n",
    "import time\n",
    "pyautogui.PAUSE = 1"
   ]
  },
  {
   "cell_type": "code",
   "execution_count": 18,
   "id": "b0dac2ef",
   "metadata": {},
   "outputs": [],
   "source": [
    "import pandas"
   ]
  },
  {
   "cell_type": "code",
   "execution_count": 19,
   "id": "52f248f0",
   "metadata": {},
   "outputs": [
    {
     "name": "stdout",
     "output_type": "stream",
     "text": [
      "                       e-mail\n",
      "0      prof.massaki@gmail.com\n",
      "1  massaki.igarashi@gmail.com\n"
     ]
    }
   ],
   "source": [
    "import pandas as pd\n",
    "df = pd.read_csv('mailLIST.csv')\n",
    "print(df)"
   ]
  },
  {
   "cell_type": "code",
   "execution_count": 20,
   "id": "69e7301e",
   "metadata": {},
   "outputs": [
    {
     "data": {
      "text/plain": [
       "'massaki.igarashi@gmail.com'"
      ]
     },
     "execution_count": 20,
     "metadata": {},
     "output_type": "execute_result"
    }
   ],
   "source": [
    "mail1 = df[\"e-mail\"][1]\n",
    "mail1"
   ]
  },
  {
   "cell_type": "code",
   "execution_count": 25,
   "id": "cb97fe47",
   "metadata": {},
   "outputs": [
    {
     "data": {
      "text/plain": [
       "prof.massaki@gmail.com        1\n",
       "massaki.igarashi@gmail.com    1\n",
       "Name: e-mail, dtype: int64"
      ]
     },
     "execution_count": 25,
     "metadata": {},
     "output_type": "execute_result"
    }
   ],
   "source": [
    "df['e-mail'].value_counts()"
   ]
  },
  {
   "cell_type": "code",
   "execution_count": 26,
   "id": "6768b9ac",
   "metadata": {},
   "outputs": [
    {
     "data": {
      "text/plain": [
       "'prof.massaki@gmail.com'"
      ]
     },
     "execution_count": 26,
     "metadata": {},
     "output_type": "execute_result"
    }
   ],
   "source": [
    "df[\"e-mail\"][0]"
   ]
  },
  {
   "cell_type": "markdown",
   "id": "0c102214",
   "metadata": {},
   "source": []
  },
  {
   "cell_type": "code",
   "execution_count": 29,
   "id": "91ac5da8",
   "metadata": {},
   "outputs": [],
   "source": [
    "for i in range(2):\n",
    "    #print(df[\"e-mail\"][i])\n",
    "    pyautogui.hotkey(\"ctrl\", \"t\")\n",
    "    pyperclip.copy(\"https://mail.google.com/mail/u/0/?hl=pt-BR#inbox?compose=new\")\n",
    "    pyautogui.hotkey(\"ctrl\", \"v\")\n",
    "    pyautogui.press(\"enter\")\n",
    "    time.sleep(7)\n",
    "\n",
    "    #pyautogui.press(\"tab\") # pula pro campo de assunto\n",
    "    #pyautogui.write(\"prof.massaki@gmail.com\")\n",
    "    pyautogui.write(str(df[\"e-mail\"][i]))\n",
    "    pyautogui.press(\"tab\") # pula pro campo de assunto\n",
    "    pyautogui.press(\"tab\") # pula pro campo de assunto\n",
    "    pyautogui.write(\"Feliz\")\n",
    "    pyperclip.copy(\" Aniversario.\")\n",
    "    pyautogui.hotkey(\"ctrl\", \"v\") # escrever o assunto\n",
    "    pyautogui.press(\"tab\") #pular pro corpo do email\n",
    "    time.sleep(5)\n",
    "    pyautogui.write(\"Passando para desejar um Feliz Aniversario! \\n\")\n",
    "    pyautogui.write(\"Muitas felicidades e muitos anos de vida. \\n\")\n",
    "    pyautogui.write(\"Aproveite bem o seu dia!\")\n",
    "    time.sleep(5)\n",
    "    # apertar Ctrl Enter\n",
    "    pyautogui.hotkey(\"ctrl\", \"enter\")\n",
    "    # Tela de processo concluído\n",
    "time.sleep(5)\n",
    "pyautogui.hotkey(\"ctrl\", \"t\")\n",
    "pyperclip.copy(\"https://www.gov.br/cgu/pt-br/100-dias/statusconcluido.png/@@images/image\")\n",
    "pyautogui.hotkey(\"ctrl\", \"v\")\n",
    "pyautogui.press(\"enter\")"
   ]
  },
  {
   "cell_type": "code",
   "execution_count": null,
   "id": "9b779e21",
   "metadata": {},
   "outputs": [],
   "source": []
  }
 ],
 "metadata": {
  "kernelspec": {
   "display_name": "Python 3 (ipykernel)",
   "language": "python",
   "name": "python3"
  },
  "language_info": {
   "codemirror_mode": {
    "name": "ipython",
    "version": 3
   },
   "file_extension": ".py",
   "mimetype": "text/x-python",
   "name": "python",
   "nbconvert_exporter": "python",
   "pygments_lexer": "ipython3",
   "version": "3.9.7"
  }
 },
 "nbformat": 4,
 "nbformat_minor": 5
}
